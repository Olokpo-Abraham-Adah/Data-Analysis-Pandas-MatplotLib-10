{
 "cells": [
  {
   "cell_type": "code",
   "execution_count": null,
   "metadata": {},
   "outputs": [],
   "source": [
    "# installing necessary libarires\n",
    "import numpy as np\n",
    "import pandas as pd\n",
    "import matplotlib.pyplot as plt\n",
    "import seaborn as sb\n",
    "\n",
    "base_color = sb.color_palette\n",
    "year_order = df['year'].value_counts().index\n",
    "location_order = df['Location'].value_counts().index\n",
    "motive_order = df['Motive'].value_counts().index\n",
    "industry_order = df['Industry'].value_counts().index\n",
    "\n",
    "#attack frequency by year\n",
    "plt.figure(figsize=(20,8))\n",
    "plt.title(\"Attack Frequency by year\")\n",
    "sb.countplot(data=df, y='year', color=base_color, order=year_order)\n",
    "plt.xticks(rotation=45); \n",
    "\n",
    "#attack by industry\n",
    "plt.figure(figsize=(10,6))\n",
    "plt.title(\"Attack Frequency by industry\")\n",
    "sb.countplot(data=df,y='industry', color=base_color, order=year_order)\n",
    "plt.xticks(rotation=15)\n",
    "\n",
    "plt.figure(figsize=(10,5))\n",
    "plt.title(\"Attack Frequency by Motive\")\n",
    "sb.countplot(data=df, y='Motive', color=base_color, order=motive_order)\n",
    "plt.xticks(rotation=15);\n",
    "\n",
    "\n",
    "\n",
    "    \n",
    "\n",
    "\n",
    "\n",
    "\n",
    "\n",
    "\n",
    "\n",
    "\n",
    "\n",
    "\n",
    "\n",
    "\n",
    "\n",
    "\n"
   ]
  }
 ],
 "metadata": {
  "language_info": {
   "name": "python"
  }
 },
 "nbformat": 4,
 "nbformat_minor": 2
}
